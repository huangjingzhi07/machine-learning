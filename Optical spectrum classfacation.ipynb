{
  "nbformat": 4,
  "nbformat_minor": 0,
  "metadata": {
    "colab": {
      "provenance": []
    },
    "kernelspec": {
      "name": "python3",
      "display_name": "Python 3"
    },
    "language_info": {
      "name": "python"
    }
  },
  "cells": [
    {
      "cell_type": "code",
      "execution_count": 8,
      "metadata": {
        "id": "k4YRdbn_hOTQ"
      },
      "outputs": [],
      "source": [
        "import numpy as np\n",
        "import jax\n",
        "import jax.numpy as jnp\n",
        "import matplotlib.pyplot as plt"
      ]
    },
    {
      "cell_type": "code",
      "source": [
        "import os\n",
        "import re\n",
        "\n",
        "folder_path = '/content/train'  # 文件夹路径\n",
        "files = os.listdir(folder_path)  # 获取文件夹中的所有文件\n",
        "\n",
        "x = [] \n",
        "y = []\n",
        "\n",
        "for file in files:\n",
        "    if file.endswith('.txt'):  # 仅处理以 .txt 结尾的文件\n",
        "        file_path = os.path.join(folder_path, file)  # 构建文件的完整路径\n",
        "        # 读取文件中的数据，假设每个文件包含一个二维数组，可以使用 numpy 的 loadtxt 函数\n",
        "        data = np.loadtxt(file_path)\n",
        "        x.append(data)\n",
        " # 提取文件名中的最后一个数字\n",
        "    match = re.search(r\"-([\\d]+)\\.txt$\", file)\n",
        "    if match:\n",
        "        # 将提取到的数字添加到数组中\n",
        "        y.append(int(match.group(1)))\n",
        "\n",
        "# 将 x 转换为 numpy 数组\n",
        "x = np.array(x)\n",
        "y = np.array(y)\n"
      ],
      "metadata": {
        "id": "b6XUOcfxuSFj"
      },
      "execution_count": 11,
      "outputs": []
    },
    {
      "cell_type": "code",
      "source": [
        "y\n"
      ],
      "metadata": {
        "colab": {
          "base_uri": "https://localhost:8080/"
        },
        "id": "rDL40YtOQUfc",
        "outputId": "c10e0df2-a7fb-414d-ed55-e81caf9c77af"
      },
      "execution_count": 12,
      "outputs": [
        {
          "output_type": "execute_result",
          "data": {
            "text/plain": [
              "array([4, 2, 4, 3, 2, 4, 2, 3, 2, 2, 2, 2, 2, 2, 2, 2, 2, 3, 2, 3, 3, 2,\n",
              "       2, 2, 4, 2, 4, 2, 2, 2, 2, 2, 2, 1, 4, 3, 2, 2, 4, 2, 2, 2, 4, 2,\n",
              "       2, 4, 4, 2, 2, 2, 2, 3, 2, 2, 2, 4, 3, 2, 4, 3, 2, 2, 3, 2, 2, 2,\n",
              "       2, 3, 2, 2, 3, 3, 4, 2, 4, 2, 4, 3, 2, 2, 4, 2, 3, 2, 2, 4, 2, 4,\n",
              "       2, 2, 3, 4, 4, 2, 4, 4, 2, 2, 2, 2, 4, 2, 1, 2, 2, 2, 2, 2, 3, 4,\n",
              "       2, 2, 3, 2, 2, 3, 2, 4, 4, 2, 4, 2, 2, 4, 4, 2, 2, 2, 2, 3, 4, 2,\n",
              "       4, 4, 2, 2, 2, 4, 4, 3, 2, 3, 3, 2, 2, 2, 4, 4, 3, 4, 2, 2, 2, 3,\n",
              "       2, 2, 3, 4, 2, 2, 4, 3, 4, 2, 2, 2, 2, 4, 1, 2, 4, 4, 2, 2, 2, 2,\n",
              "       3, 2, 2, 3, 1, 3, 2, 4, 2, 4, 2, 2, 2, 4, 2, 4, 4, 2, 2, 2, 2, 2,\n",
              "       2, 3, 4, 4, 1, 2, 3, 4, 2, 2, 3, 2, 2, 2, 3, 4, 2, 2, 4, 2, 3, 4,\n",
              "       2, 2, 2, 3, 3, 2, 2, 2, 2, 2, 2, 3, 3, 4, 4, 2, 3, 2, 2, 2, 3, 2,\n",
              "       2, 2, 4, 2, 1, 2, 2, 4, 4, 2, 3, 4, 2, 3, 3, 4, 2, 2, 3, 2, 2, 3,\n",
              "       2, 4, 2, 2, 4, 4, 2, 2, 4, 2, 3, 2, 4, 2, 3, 2, 3, 3, 2, 3, 2, 4,\n",
              "       2, 3, 2, 2, 2, 3, 3, 2, 2, 2, 2, 2, 2, 4, 4, 3, 4, 2, 4, 3, 2, 3,\n",
              "       3, 2, 2, 2, 3, 2, 4, 4, 2, 2, 4, 3, 2, 2, 1, 4, 2, 2, 3, 2, 2, 2,\n",
              "       4, 2, 3, 2, 2, 3, 4, 2, 2, 2, 4, 2, 2, 3, 4, 2, 2, 4, 2, 2, 3, 4,\n",
              "       2, 2, 4, 3, 2, 3, 2, 2, 4, 2, 4, 4, 2, 3, 4, 2, 3, 2, 2, 2, 4, 2,\n",
              "       2, 2, 2, 2, 3, 3, 2, 4, 2, 2, 2, 3, 1, 3, 2, 2, 4, 2, 2, 4, 3, 2,\n",
              "       2, 2, 1, 2, 2, 2, 4, 2, 2, 4, 2, 3, 2, 2, 3, 2, 2, 2, 2, 4, 2, 2,\n",
              "       4, 4, 2, 3, 4, 4, 2, 4, 2, 2, 4, 4, 3, 2, 2, 2, 2, 2, 2, 3, 2, 4,\n",
              "       4, 2, 3, 2, 3, 4, 2, 2, 4, 4, 2, 2, 4, 4, 3, 4, 2, 2, 3, 2, 2, 2,\n",
              "       2, 2, 3, 2, 2, 3, 3, 2, 2, 4, 3, 2, 2, 4, 4, 2, 2, 3, 3, 3, 4, 2,\n",
              "       2, 3, 3, 2, 3, 2, 2, 2, 2, 4, 2, 4, 4, 2, 3, 2, 4, 3, 3, 3, 3, 2,\n",
              "       2, 2, 3, 4, 2, 3, 2, 1, 3, 4, 2, 4, 2, 2, 4, 2, 3, 3, 2, 2, 2, 3,\n",
              "       3, 2, 2, 3, 4, 2, 2, 4, 2, 4, 2, 4, 2, 4, 2, 4, 2, 2, 3, 2, 2, 2,\n",
              "       1, 2, 3, 2, 3, 4, 3, 2, 3, 3, 4, 3, 2, 2, 2, 4, 3, 2, 2, 2, 2, 4,\n",
              "       2, 2, 2, 2, 3, 2, 2, 4, 4, 2, 2, 2, 2, 2, 2, 2, 2, 3, 2, 2, 2, 3,\n",
              "       4, 2, 3, 4, 2, 3, 2, 1, 4, 1, 4, 3, 4, 2, 4, 4, 2, 2, 4, 4, 2, 4,\n",
              "       2, 4, 3, 4, 3, 2, 2, 3, 2, 4, 2, 2, 2, 2, 3, 2, 2, 2, 4, 2, 2, 2,\n",
              "       4, 2, 4, 2, 2, 2, 2, 4, 2, 2, 2, 2, 2, 4, 2, 2, 2, 3, 3, 2, 4, 2,\n",
              "       4, 4, 2, 2, 3, 2, 3, 3, 4, 3, 2, 2, 4, 4, 2, 4, 3, 2, 2, 2, 4, 2,\n",
              "       2, 3, 3, 3, 2, 2, 4, 2, 3, 4, 4, 4, 4, 2, 3, 2, 2, 4, 4, 2, 2, 4,\n",
              "       4, 1, 3, 2, 4, 4, 2, 2, 2, 2, 4, 2, 2, 2, 2, 3, 4, 2, 2, 2, 2, 3,\n",
              "       2, 4, 4, 4, 2, 2, 3, 3, 2, 1, 2, 1, 2, 3, 3, 2, 3, 2, 2, 2, 2, 2,\n",
              "       3, 3, 4, 3, 3, 2, 4, 3, 4, 4, 4, 4, 2, 4, 4, 3, 2, 4, 2, 3, 3, 4,\n",
              "       3, 2, 2, 2, 2, 2, 2, 4, 2, 2, 2, 4, 2, 2, 3, 1, 2, 2, 2, 2, 2, 3,\n",
              "       4, 4, 2, 2, 2, 3, 3, 4, 3, 2, 2, 4, 3, 2, 4, 4, 2, 4, 2, 4, 2, 2,\n",
              "       4, 2, 2, 2])"
            ]
          },
          "metadata": {},
          "execution_count": 12
        }
      ]
    },
    {
      "cell_type": "code",
      "source": [
        "x.shape"
      ],
      "metadata": {
        "colab": {
          "base_uri": "https://localhost:8080/"
        },
        "id": "WXLxzozISfxA",
        "outputId": "8f738299-1e94-41e8-c9d5-74936a0d8f30"
      },
      "execution_count": 13,
      "outputs": [
        {
          "output_type": "execute_result",
          "data": {
            "text/plain": [
              "(818, 12501, 2)"
            ]
          },
          "metadata": {},
          "execution_count": 13
        }
      ]
    },
    {
      "cell_type": "code",
      "source": [
        "x_train = x[:,:,1]\n",
        "num_classes = 5\n",
        "y_train = jax.nn.one_hot(y, num_classes)\n",
        "y_train.shape"
      ],
      "metadata": {
        "id": "76mVtJV1uSuB",
        "colab": {
          "base_uri": "https://localhost:8080/"
        },
        "outputId": "0951fa1c-18a0-4054-dd88-30f02aa03e5e"
      },
      "execution_count": 14,
      "outputs": [
        {
          "output_type": "execute_result",
          "data": {
            "text/plain": [
              "(818, 5)"
            ]
          },
          "metadata": {},
          "execution_count": 14
        }
      ]
    },
    {
      "cell_type": "code",
      "source": [
        "\n",
        "array = x_train\n",
        "\n",
        "# 提取每一行最大值前后共800个点的数值\n",
        "window_size = 500\n",
        "\n",
        "max_values = np.max(array, axis=1)  # 沿着第二个轴（12501维）计算最大值\n",
        "max_indices = np.argmax(array, axis=1)  # 沿着第二个轴（12501维）计算最大值的索引\n",
        "start_indices = np.maximum(0, max_indices - window_size // 2)\n",
        "end_indices = np.minimum(12500, max_indices + window_size // 2)\n",
        "end_indices = np.where(start_indices == 0, window_size, end_indices)  # 如果起始索引为0，设置为0\n",
        "start_indices = np.where(end_indices == 12500, 12500 - window_size, start_indices)  # 如果结束索引为12500，设置为12500 - window_size\n",
        "new_array = np.array([array[i, start_indices[i]:end_indices[i]+1] for i in range(array.shape[0])])\n",
        "\n",
        "\n",
        "x_train = new_array\n",
        "x_train.shape"
      ],
      "metadata": {
        "colab": {
          "base_uri": "https://localhost:8080/"
        },
        "id": "Qrjzj7ZnbjMQ",
        "outputId": "7cc8dc60-bb6d-4aae-98f9-c16c8aeecb3a"
      },
      "execution_count": 15,
      "outputs": [
        {
          "output_type": "execute_result",
          "data": {
            "text/plain": [
              "(818, 501)"
            ]
          },
          "metadata": {},
          "execution_count": 15
        }
      ]
    },
    {
      "cell_type": "code",
      "source": [
        "def make_network(layer_sizes):\n",
        "    \n",
        "    def init(key, scale=1e-2):\n",
        "        params = []\n",
        "        for n_in, n_out in zip(layer_sizes[:-1], layer_sizes[1:]):\n",
        "            weight_key, bias_key = jax.random.split(key)\n",
        "            weight = scale * jax.random.normal(weight_key, (n_in, n_out))\n",
        "            bias = scale * jax.random.normal(bias_key, (n_out,))\n",
        "            params.append((weight, bias))\n",
        "        return params\n",
        "\n",
        "    def relu(x):\n",
        "        return jnp.maximum(0, x)\n",
        "\n",
        "    def apply(params, x):\n",
        "        for w, b in params[:-1]:\n",
        "            x = relu(jnp.dot(x, w) + b)\n",
        "        final_w, final_b = params[-1]\n",
        "        return jnp.dot(x, final_w) + final_b\n",
        "\n",
        "    return init, apply\n"
      ],
      "metadata": {
        "id": "0LbESzfXhX7A"
      },
      "execution_count": 16,
      "outputs": []
    },
    {
      "cell_type": "code",
      "source": [
        "layer_sizes = [501, 128, 64, 5] # IN: 801 numbers, OUT: 5 classes\n",
        "init_fn, apply_fn = make_network(layer_sizes)\n",
        "key = jax.random.PRNGKey(42)\n",
        "params = init_fn(key)\n"
      ],
      "metadata": {
        "id": "YlqEQgnl5uLm"
      },
      "execution_count": 22,
      "outputs": []
    },
    {
      "cell_type": "code",
      "source": [
        "from jax.flatten_util import ravel_pytree\n",
        "ravel_pytree(params)[0].size"
      ],
      "metadata": {
        "colab": {
          "base_uri": "https://localhost:8080/"
        },
        "id": "0aM98Rtx_83A",
        "outputId": "4c9e2c83-450f-489f-9387-7ef15de3b8b0"
      },
      "execution_count": 23,
      "outputs": [
        {
          "output_type": "execute_result",
          "data": {
            "text/plain": [
              "72837"
            ]
          },
          "metadata": {},
          "execution_count": 23
        }
      ]
    },
    {
      "cell_type": "code",
      "source": [
        "def cross_entropy(params, x, y):\n",
        "    logits = apply_fn(params, x)\n",
        "    return jnp.sum(y * jax.nn.log_softmax(logits))\n",
        "\n",
        "def cross_entropy_loss(params, x, y):\n",
        "    return -jnp.mean(jax.vmap(cross_entropy, (None, 0, 0),0)(params, x, y))"
      ],
      "metadata": {
        "id": "lAO_1aMuAdM_"
      },
      "execution_count": 24,
      "outputs": []
    },
    {
      "cell_type": "code",
      "source": [
        "# Define the update function\n",
        "@jax.jit\n",
        "def update(params, x, y, learning_rate):\n",
        "    grads = jax.grad(cross_entropy_loss)(params, x, y)\n",
        "    return jax.tree_map(lambda p, g: p - learning_rate * g, params, grads) \n",
        "\n",
        "# Define the accuracy function\n",
        "def accuracy(params, x, y):\n",
        "    predictions = jnp.argmax(apply_fn(params, x), axis=1)\n",
        "    actual = jnp.argmax(y, axis=1)\n",
        "    return jnp.mean(predictions == actual)"
      ],
      "metadata": {
        "id": "LAW72KBcAiOt"
      },
      "execution_count": 25,
      "outputs": []
    },
    {
      "cell_type": "code",
      "source": [
        "learning_rate = 0.01\n",
        "num_epochs = 10\n",
        "batch_size = 8\n",
        "\n",
        "train_size = x_train.shape[0]\n",
        "num_complete_batches, leftover = divmod(train_size, batch_size)\n",
        "num_batches = num_complete_batches + bool(leftover)\n",
        "\n",
        "for epoch in range(num_epochs):\n",
        "    # Shuffle the training data\n",
        "    key, subkey = jax.random.split(key)\n",
        "    permutation = jax.random.permutation(subkey, train_size)\n",
        "    x_train = x_train[permutation]\n",
        "    y_train = y_train[permutation]\n",
        "\n",
        "    for i in range(num_batches):\n",
        "        # Get batch data\n",
        "        batch_start = i * batch_size\n",
        "        batch_end = (i + 1) * batch_size\n",
        "        x_batch = x_train[batch_start:batch_end]\n",
        "        y_batch = y_train[batch_start:batch_end]\n",
        "\n",
        "        # Update parameters\n",
        "        params = update(params, x_batch, y_batch, learning_rate)\n",
        "\n",
        "    # Compute accuracy on training and test sets\n",
        "    train_accuracy = accuracy(params, x_train, y_train)\n",
        "\n",
        "    print(f\"Epoch {epoch}: train accuracy = {train_accuracy:.3f}\")"
      ],
      "metadata": {
        "colab": {
          "base_uri": "https://localhost:8080/"
        },
        "id": "Bry1kjDcAlbB",
        "outputId": "d29bbeaa-0ec1-442b-a58c-4b88cea8bda1"
      },
      "execution_count": 28,
      "outputs": [
        {
          "output_type": "stream",
          "name": "stdout",
          "text": [
            "Epoch 0: train accuracy = 0.546\n",
            "Epoch 1: train accuracy = 0.546\n",
            "Epoch 2: train accuracy = 0.546\n",
            "Epoch 3: train accuracy = 0.546\n",
            "Epoch 4: train accuracy = 0.546\n",
            "Epoch 5: train accuracy = 0.546\n",
            "Epoch 6: train accuracy = 0.546\n",
            "Epoch 7: train accuracy = 0.546\n",
            "Epoch 8: train accuracy = 0.546\n",
            "Epoch 9: train accuracy = 0.546\n"
          ]
        }
      ]
    },
    {
      "cell_type": "code",
      "source": [
        "\n",
        "predictions = jnp.argmax(apply_fn(params, x_train), axis=1)\n",
        "actual = jnp.argmax(y_train, axis=1)\n",
        "idx = jnp.where(predictions != actual)[0]\n",
        "len(idx)"
      ],
      "metadata": {
        "colab": {
          "base_uri": "https://localhost:8080/"
        },
        "id": "nIhh3Sc9cRWM",
        "outputId": "4503e7e4-9b99-41cb-bd95-594224bed552"
      },
      "execution_count": 62,
      "outputs": [
        {
          "output_type": "execute_result",
          "data": {
            "text/plain": [
              "371"
            ]
          },
          "metadata": {},
          "execution_count": 62
        }
      ]
    },
    {
      "cell_type": "code",
      "source": [
        "for i in idx:\n",
        "  print(files[idx[1]])"
      ],
      "metadata": {
        "colab": {
          "base_uri": "https://localhost:8080/"
        },
        "id": "tiFQr9hLdN0p",
        "outputId": "bc84e6f1-db62-460d-c04a-540e2d284b3c"
      },
      "execution_count": 63,
      "outputs": [
        {
          "output_type": "stream",
          "name": "stdout",
          "text": [
            "data A V 700baiμA4400mV -3.txt\n",
            "data A V 700baiμA4400mV -3.txt\n",
            "data A V 700baiμA4400mV -3.txt\n",
            "data A V 700baiμA4400mV -3.txt\n",
            "data A V 700baiμA4400mV -3.txt\n",
            "data A V 700baiμA4400mV -3.txt\n",
            "data A V 700baiμA4400mV -3.txt\n",
            "data A V 700baiμA4400mV -3.txt\n",
            "data A V 700baiμA4400mV -3.txt\n",
            "data A V 700baiμA4400mV -3.txt\n",
            "data A V 700baiμA4400mV -3.txt\n",
            "data A V 700baiμA4400mV -3.txt\n",
            "data A V 700baiμA4400mV -3.txt\n",
            "data A V 700baiμA4400mV -3.txt\n",
            "data A V 700baiμA4400mV -3.txt\n",
            "data A V 700baiμA4400mV -3.txt\n",
            "data A V 700baiμA4400mV -3.txt\n",
            "data A V 700baiμA4400mV -3.txt\n",
            "data A V 700baiμA4400mV -3.txt\n",
            "data A V 700baiμA4400mV -3.txt\n",
            "data A V 700baiμA4400mV -3.txt\n",
            "data A V 700baiμA4400mV -3.txt\n",
            "data A V 700baiμA4400mV -3.txt\n",
            "data A V 700baiμA4400mV -3.txt\n",
            "data A V 700baiμA4400mV -3.txt\n",
            "data A V 700baiμA4400mV -3.txt\n",
            "data A V 700baiμA4400mV -3.txt\n",
            "data A V 700baiμA4400mV -3.txt\n",
            "data A V 700baiμA4400mV -3.txt\n",
            "data A V 700baiμA4400mV -3.txt\n",
            "data A V 700baiμA4400mV -3.txt\n",
            "data A V 700baiμA4400mV -3.txt\n",
            "data A V 700baiμA4400mV -3.txt\n",
            "data A V 700baiμA4400mV -3.txt\n",
            "data A V 700baiμA4400mV -3.txt\n",
            "data A V 700baiμA4400mV -3.txt\n",
            "data A V 700baiμA4400mV -3.txt\n",
            "data A V 700baiμA4400mV -3.txt\n",
            "data A V 700baiμA4400mV -3.txt\n",
            "data A V 700baiμA4400mV -3.txt\n",
            "data A V 700baiμA4400mV -3.txt\n",
            "data A V 700baiμA4400mV -3.txt\n",
            "data A V 700baiμA4400mV -3.txt\n",
            "data A V 700baiμA4400mV -3.txt\n",
            "data A V 700baiμA4400mV -3.txt\n",
            "data A V 700baiμA4400mV -3.txt\n",
            "data A V 700baiμA4400mV -3.txt\n",
            "data A V 700baiμA4400mV -3.txt\n",
            "data A V 700baiμA4400mV -3.txt\n",
            "data A V 700baiμA4400mV -3.txt\n",
            "data A V 700baiμA4400mV -3.txt\n",
            "data A V 700baiμA4400mV -3.txt\n",
            "data A V 700baiμA4400mV -3.txt\n",
            "data A V 700baiμA4400mV -3.txt\n",
            "data A V 700baiμA4400mV -3.txt\n",
            "data A V 700baiμA4400mV -3.txt\n",
            "data A V 700baiμA4400mV -3.txt\n",
            "data A V 700baiμA4400mV -3.txt\n",
            "data A V 700baiμA4400mV -3.txt\n",
            "data A V 700baiμA4400mV -3.txt\n",
            "data A V 700baiμA4400mV -3.txt\n",
            "data A V 700baiμA4400mV -3.txt\n",
            "data A V 700baiμA4400mV -3.txt\n",
            "data A V 700baiμA4400mV -3.txt\n",
            "data A V 700baiμA4400mV -3.txt\n",
            "data A V 700baiμA4400mV -3.txt\n",
            "data A V 700baiμA4400mV -3.txt\n",
            "data A V 700baiμA4400mV -3.txt\n",
            "data A V 700baiμA4400mV -3.txt\n",
            "data A V 700baiμA4400mV -3.txt\n",
            "data A V 700baiμA4400mV -3.txt\n",
            "data A V 700baiμA4400mV -3.txt\n",
            "data A V 700baiμA4400mV -3.txt\n",
            "data A V 700baiμA4400mV -3.txt\n",
            "data A V 700baiμA4400mV -3.txt\n",
            "data A V 700baiμA4400mV -3.txt\n",
            "data A V 700baiμA4400mV -3.txt\n",
            "data A V 700baiμA4400mV -3.txt\n",
            "data A V 700baiμA4400mV -3.txt\n",
            "data A V 700baiμA4400mV -3.txt\n",
            "data A V 700baiμA4400mV -3.txt\n",
            "data A V 700baiμA4400mV -3.txt\n",
            "data A V 700baiμA4400mV -3.txt\n",
            "data A V 700baiμA4400mV -3.txt\n",
            "data A V 700baiμA4400mV -3.txt\n",
            "data A V 700baiμA4400mV -3.txt\n",
            "data A V 700baiμA4400mV -3.txt\n",
            "data A V 700baiμA4400mV -3.txt\n",
            "data A V 700baiμA4400mV -3.txt\n",
            "data A V 700baiμA4400mV -3.txt\n",
            "data A V 700baiμA4400mV -3.txt\n",
            "data A V 700baiμA4400mV -3.txt\n",
            "data A V 700baiμA4400mV -3.txt\n",
            "data A V 700baiμA4400mV -3.txt\n",
            "data A V 700baiμA4400mV -3.txt\n",
            "data A V 700baiμA4400mV -3.txt\n",
            "data A V 700baiμA4400mV -3.txt\n",
            "data A V 700baiμA4400mV -3.txt\n",
            "data A V 700baiμA4400mV -3.txt\n",
            "data A V 700baiμA4400mV -3.txt\n",
            "data A V 700baiμA4400mV -3.txt\n",
            "data A V 700baiμA4400mV -3.txt\n",
            "data A V 700baiμA4400mV -3.txt\n",
            "data A V 700baiμA4400mV -3.txt\n",
            "data A V 700baiμA4400mV -3.txt\n",
            "data A V 700baiμA4400mV -3.txt\n",
            "data A V 700baiμA4400mV -3.txt\n",
            "data A V 700baiμA4400mV -3.txt\n",
            "data A V 700baiμA4400mV -3.txt\n",
            "data A V 700baiμA4400mV -3.txt\n",
            "data A V 700baiμA4400mV -3.txt\n",
            "data A V 700baiμA4400mV -3.txt\n",
            "data A V 700baiμA4400mV -3.txt\n",
            "data A V 700baiμA4400mV -3.txt\n",
            "data A V 700baiμA4400mV -3.txt\n",
            "data A V 700baiμA4400mV -3.txt\n",
            "data A V 700baiμA4400mV -3.txt\n",
            "data A V 700baiμA4400mV -3.txt\n",
            "data A V 700baiμA4400mV -3.txt\n",
            "data A V 700baiμA4400mV -3.txt\n",
            "data A V 700baiμA4400mV -3.txt\n",
            "data A V 700baiμA4400mV -3.txt\n",
            "data A V 700baiμA4400mV -3.txt\n",
            "data A V 700baiμA4400mV -3.txt\n",
            "data A V 700baiμA4400mV -3.txt\n",
            "data A V 700baiμA4400mV -3.txt\n",
            "data A V 700baiμA4400mV -3.txt\n",
            "data A V 700baiμA4400mV -3.txt\n",
            "data A V 700baiμA4400mV -3.txt\n",
            "data A V 700baiμA4400mV -3.txt\n",
            "data A V 700baiμA4400mV -3.txt\n",
            "data A V 700baiμA4400mV -3.txt\n",
            "data A V 700baiμA4400mV -3.txt\n",
            "data A V 700baiμA4400mV -3.txt\n",
            "data A V 700baiμA4400mV -3.txt\n",
            "data A V 700baiμA4400mV -3.txt\n",
            "data A V 700baiμA4400mV -3.txt\n",
            "data A V 700baiμA4400mV -3.txt\n",
            "data A V 700baiμA4400mV -3.txt\n",
            "data A V 700baiμA4400mV -3.txt\n",
            "data A V 700baiμA4400mV -3.txt\n",
            "data A V 700baiμA4400mV -3.txt\n",
            "data A V 700baiμA4400mV -3.txt\n",
            "data A V 700baiμA4400mV -3.txt\n",
            "data A V 700baiμA4400mV -3.txt\n",
            "data A V 700baiμA4400mV -3.txt\n",
            "data A V 700baiμA4400mV -3.txt\n",
            "data A V 700baiμA4400mV -3.txt\n",
            "data A V 700baiμA4400mV -3.txt\n",
            "data A V 700baiμA4400mV -3.txt\n",
            "data A V 700baiμA4400mV -3.txt\n",
            "data A V 700baiμA4400mV -3.txt\n",
            "data A V 700baiμA4400mV -3.txt\n",
            "data A V 700baiμA4400mV -3.txt\n",
            "data A V 700baiμA4400mV -3.txt\n",
            "data A V 700baiμA4400mV -3.txt\n",
            "data A V 700baiμA4400mV -3.txt\n",
            "data A V 700baiμA4400mV -3.txt\n",
            "data A V 700baiμA4400mV -3.txt\n",
            "data A V 700baiμA4400mV -3.txt\n",
            "data A V 700baiμA4400mV -3.txt\n",
            "data A V 700baiμA4400mV -3.txt\n",
            "data A V 700baiμA4400mV -3.txt\n",
            "data A V 700baiμA4400mV -3.txt\n",
            "data A V 700baiμA4400mV -3.txt\n",
            "data A V 700baiμA4400mV -3.txt\n",
            "data A V 700baiμA4400mV -3.txt\n",
            "data A V 700baiμA4400mV -3.txt\n",
            "data A V 700baiμA4400mV -3.txt\n",
            "data A V 700baiμA4400mV -3.txt\n",
            "data A V 700baiμA4400mV -3.txt\n",
            "data A V 700baiμA4400mV -3.txt\n",
            "data A V 700baiμA4400mV -3.txt\n",
            "data A V 700baiμA4400mV -3.txt\n",
            "data A V 700baiμA4400mV -3.txt\n",
            "data A V 700baiμA4400mV -3.txt\n",
            "data A V 700baiμA4400mV -3.txt\n",
            "data A V 700baiμA4400mV -3.txt\n",
            "data A V 700baiμA4400mV -3.txt\n",
            "data A V 700baiμA4400mV -3.txt\n",
            "data A V 700baiμA4400mV -3.txt\n",
            "data A V 700baiμA4400mV -3.txt\n",
            "data A V 700baiμA4400mV -3.txt\n",
            "data A V 700baiμA4400mV -3.txt\n",
            "data A V 700baiμA4400mV -3.txt\n",
            "data A V 700baiμA4400mV -3.txt\n",
            "data A V 700baiμA4400mV -3.txt\n",
            "data A V 700baiμA4400mV -3.txt\n",
            "data A V 700baiμA4400mV -3.txt\n",
            "data A V 700baiμA4400mV -3.txt\n",
            "data A V 700baiμA4400mV -3.txt\n",
            "data A V 700baiμA4400mV -3.txt\n",
            "data A V 700baiμA4400mV -3.txt\n",
            "data A V 700baiμA4400mV -3.txt\n",
            "data A V 700baiμA4400mV -3.txt\n",
            "data A V 700baiμA4400mV -3.txt\n",
            "data A V 700baiμA4400mV -3.txt\n",
            "data A V 700baiμA4400mV -3.txt\n",
            "data A V 700baiμA4400mV -3.txt\n",
            "data A V 700baiμA4400mV -3.txt\n",
            "data A V 700baiμA4400mV -3.txt\n",
            "data A V 700baiμA4400mV -3.txt\n",
            "data A V 700baiμA4400mV -3.txt\n",
            "data A V 700baiμA4400mV -3.txt\n",
            "data A V 700baiμA4400mV -3.txt\n",
            "data A V 700baiμA4400mV -3.txt\n",
            "data A V 700baiμA4400mV -3.txt\n",
            "data A V 700baiμA4400mV -3.txt\n",
            "data A V 700baiμA4400mV -3.txt\n",
            "data A V 700baiμA4400mV -3.txt\n",
            "data A V 700baiμA4400mV -3.txt\n",
            "data A V 700baiμA4400mV -3.txt\n",
            "data A V 700baiμA4400mV -3.txt\n",
            "data A V 700baiμA4400mV -3.txt\n",
            "data A V 700baiμA4400mV -3.txt\n",
            "data A V 700baiμA4400mV -3.txt\n",
            "data A V 700baiμA4400mV -3.txt\n",
            "data A V 700baiμA4400mV -3.txt\n",
            "data A V 700baiμA4400mV -3.txt\n",
            "data A V 700baiμA4400mV -3.txt\n",
            "data A V 700baiμA4400mV -3.txt\n",
            "data A V 700baiμA4400mV -3.txt\n",
            "data A V 700baiμA4400mV -3.txt\n",
            "data A V 700baiμA4400mV -3.txt\n",
            "data A V 700baiμA4400mV -3.txt\n",
            "data A V 700baiμA4400mV -3.txt\n",
            "data A V 700baiμA4400mV -3.txt\n",
            "data A V 700baiμA4400mV -3.txt\n",
            "data A V 700baiμA4400mV -3.txt\n",
            "data A V 700baiμA4400mV -3.txt\n",
            "data A V 700baiμA4400mV -3.txt\n",
            "data A V 700baiμA4400mV -3.txt\n",
            "data A V 700baiμA4400mV -3.txt\n",
            "data A V 700baiμA4400mV -3.txt\n",
            "data A V 700baiμA4400mV -3.txt\n",
            "data A V 700baiμA4400mV -3.txt\n",
            "data A V 700baiμA4400mV -3.txt\n",
            "data A V 700baiμA4400mV -3.txt\n",
            "data A V 700baiμA4400mV -3.txt\n",
            "data A V 700baiμA4400mV -3.txt\n",
            "data A V 700baiμA4400mV -3.txt\n",
            "data A V 700baiμA4400mV -3.txt\n",
            "data A V 700baiμA4400mV -3.txt\n",
            "data A V 700baiμA4400mV -3.txt\n",
            "data A V 700baiμA4400mV -3.txt\n",
            "data A V 700baiμA4400mV -3.txt\n",
            "data A V 700baiμA4400mV -3.txt\n",
            "data A V 700baiμA4400mV -3.txt\n",
            "data A V 700baiμA4400mV -3.txt\n",
            "data A V 700baiμA4400mV -3.txt\n",
            "data A V 700baiμA4400mV -3.txt\n",
            "data A V 700baiμA4400mV -3.txt\n",
            "data A V 700baiμA4400mV -3.txt\n",
            "data A V 700baiμA4400mV -3.txt\n",
            "data A V 700baiμA4400mV -3.txt\n",
            "data A V 700baiμA4400mV -3.txt\n",
            "data A V 700baiμA4400mV -3.txt\n",
            "data A V 700baiμA4400mV -3.txt\n",
            "data A V 700baiμA4400mV -3.txt\n",
            "data A V 700baiμA4400mV -3.txt\n",
            "data A V 700baiμA4400mV -3.txt\n",
            "data A V 700baiμA4400mV -3.txt\n",
            "data A V 700baiμA4400mV -3.txt\n",
            "data A V 700baiμA4400mV -3.txt\n",
            "data A V 700baiμA4400mV -3.txt\n",
            "data A V 700baiμA4400mV -3.txt\n",
            "data A V 700baiμA4400mV -3.txt\n",
            "data A V 700baiμA4400mV -3.txt\n",
            "data A V 700baiμA4400mV -3.txt\n",
            "data A V 700baiμA4400mV -3.txt\n",
            "data A V 700baiμA4400mV -3.txt\n",
            "data A V 700baiμA4400mV -3.txt\n",
            "data A V 700baiμA4400mV -3.txt\n",
            "data A V 700baiμA4400mV -3.txt\n",
            "data A V 700baiμA4400mV -3.txt\n",
            "data A V 700baiμA4400mV -3.txt\n",
            "data A V 700baiμA4400mV -3.txt\n",
            "data A V 700baiμA4400mV -3.txt\n",
            "data A V 700baiμA4400mV -3.txt\n",
            "data A V 700baiμA4400mV -3.txt\n",
            "data A V 700baiμA4400mV -3.txt\n",
            "data A V 700baiμA4400mV -3.txt\n",
            "data A V 700baiμA4400mV -3.txt\n",
            "data A V 700baiμA4400mV -3.txt\n",
            "data A V 700baiμA4400mV -3.txt\n",
            "data A V 700baiμA4400mV -3.txt\n",
            "data A V 700baiμA4400mV -3.txt\n",
            "data A V 700baiμA4400mV -3.txt\n",
            "data A V 700baiμA4400mV -3.txt\n",
            "data A V 700baiμA4400mV -3.txt\n",
            "data A V 700baiμA4400mV -3.txt\n",
            "data A V 700baiμA4400mV -3.txt\n",
            "data A V 700baiμA4400mV -3.txt\n",
            "data A V 700baiμA4400mV -3.txt\n",
            "data A V 700baiμA4400mV -3.txt\n",
            "data A V 700baiμA4400mV -3.txt\n",
            "data A V 700baiμA4400mV -3.txt\n",
            "data A V 700baiμA4400mV -3.txt\n",
            "data A V 700baiμA4400mV -3.txt\n",
            "data A V 700baiμA4400mV -3.txt\n",
            "data A V 700baiμA4400mV -3.txt\n",
            "data A V 700baiμA4400mV -3.txt\n",
            "data A V 700baiμA4400mV -3.txt\n",
            "data A V 700baiμA4400mV -3.txt\n",
            "data A V 700baiμA4400mV -3.txt\n",
            "data A V 700baiμA4400mV -3.txt\n",
            "data A V 700baiμA4400mV -3.txt\n",
            "data A V 700baiμA4400mV -3.txt\n",
            "data A V 700baiμA4400mV -3.txt\n",
            "data A V 700baiμA4400mV -3.txt\n",
            "data A V 700baiμA4400mV -3.txt\n",
            "data A V 700baiμA4400mV -3.txt\n",
            "data A V 700baiμA4400mV -3.txt\n",
            "data A V 700baiμA4400mV -3.txt\n",
            "data A V 700baiμA4400mV -3.txt\n",
            "data A V 700baiμA4400mV -3.txt\n",
            "data A V 700baiμA4400mV -3.txt\n",
            "data A V 700baiμA4400mV -3.txt\n",
            "data A V 700baiμA4400mV -3.txt\n",
            "data A V 700baiμA4400mV -3.txt\n",
            "data A V 700baiμA4400mV -3.txt\n",
            "data A V 700baiμA4400mV -3.txt\n",
            "data A V 700baiμA4400mV -3.txt\n",
            "data A V 700baiμA4400mV -3.txt\n",
            "data A V 700baiμA4400mV -3.txt\n",
            "data A V 700baiμA4400mV -3.txt\n",
            "data A V 700baiμA4400mV -3.txt\n",
            "data A V 700baiμA4400mV -3.txt\n",
            "data A V 700baiμA4400mV -3.txt\n",
            "data A V 700baiμA4400mV -3.txt\n",
            "data A V 700baiμA4400mV -3.txt\n",
            "data A V 700baiμA4400mV -3.txt\n",
            "data A V 700baiμA4400mV -3.txt\n",
            "data A V 700baiμA4400mV -3.txt\n",
            "data A V 700baiμA4400mV -3.txt\n",
            "data A V 700baiμA4400mV -3.txt\n",
            "data A V 700baiμA4400mV -3.txt\n",
            "data A V 700baiμA4400mV -3.txt\n",
            "data A V 700baiμA4400mV -3.txt\n",
            "data A V 700baiμA4400mV -3.txt\n",
            "data A V 700baiμA4400mV -3.txt\n",
            "data A V 700baiμA4400mV -3.txt\n",
            "data A V 700baiμA4400mV -3.txt\n",
            "data A V 700baiμA4400mV -3.txt\n",
            "data A V 700baiμA4400mV -3.txt\n",
            "data A V 700baiμA4400mV -3.txt\n",
            "data A V 700baiμA4400mV -3.txt\n",
            "data A V 700baiμA4400mV -3.txt\n",
            "data A V 700baiμA4400mV -3.txt\n",
            "data A V 700baiμA4400mV -3.txt\n",
            "data A V 700baiμA4400mV -3.txt\n",
            "data A V 700baiμA4400mV -3.txt\n",
            "data A V 700baiμA4400mV -3.txt\n",
            "data A V 700baiμA4400mV -3.txt\n",
            "data A V 700baiμA4400mV -3.txt\n",
            "data A V 700baiμA4400mV -3.txt\n",
            "data A V 700baiμA4400mV -3.txt\n",
            "data A V 700baiμA4400mV -3.txt\n",
            "data A V 700baiμA4400mV -3.txt\n",
            "data A V 700baiμA4400mV -3.txt\n",
            "data A V 700baiμA4400mV -3.txt\n",
            "data A V 700baiμA4400mV -3.txt\n",
            "data A V 700baiμA4400mV -3.txt\n",
            "data A V 700baiμA4400mV -3.txt\n",
            "data A V 700baiμA4400mV -3.txt\n",
            "data A V 700baiμA4400mV -3.txt\n",
            "data A V 700baiμA4400mV -3.txt\n",
            "data A V 700baiμA4400mV -3.txt\n",
            "data A V 700baiμA4400mV -3.txt\n",
            "data A V 700baiμA4400mV -3.txt\n",
            "data A V 700baiμA4400mV -3.txt\n"
          ]
        }
      ]
    },
    {
      "cell_type": "code",
      "source": [
        "predictions[idx]\n"
      ],
      "metadata": {
        "colab": {
          "base_uri": "https://localhost:8080/"
        },
        "id": "oE9aC97niJsu",
        "outputId": "30450b8b-ff17-432e-a0ed-b134a0bcbf56"
      },
      "execution_count": 60,
      "outputs": [
        {
          "output_type": "execute_result",
          "data": {
            "text/plain": [
              "Array([2, 2, 2, 2, 2, 2, 2, 2, 2, 2, 2, 2, 2, 2, 2, 2, 2, 2, 2, 2, 2, 2,\n",
              "       2, 2, 2, 2, 2, 2, 2, 2, 2, 2, 2, 2, 2, 2, 2, 2, 2, 2, 2, 2, 2, 2,\n",
              "       2, 2, 2, 2, 2, 2, 2, 2, 2, 2, 2, 2, 2, 2, 2, 2, 2, 2, 2, 2, 2, 2,\n",
              "       2, 2, 2, 2, 2, 2, 2, 2, 2, 2, 2, 2, 2, 2, 2, 2, 2, 2, 2, 2, 2, 2,\n",
              "       2, 2, 2, 2, 2, 2, 2, 2, 2, 2, 2, 2, 2, 2, 2, 2, 2, 2, 2, 2, 2, 2,\n",
              "       2, 2, 2, 2, 2, 2, 2, 2, 2, 2, 2, 2, 2, 2, 2, 2, 2, 2, 2, 2, 2, 2,\n",
              "       2, 2, 2, 2, 2, 2, 2, 2, 2, 2, 2, 2, 2, 2, 2, 2, 2, 2, 2, 2, 2, 2,\n",
              "       2, 2, 2, 2, 2, 2, 2, 2, 2, 2, 2, 2, 2, 2, 2, 2, 2, 2, 2, 2, 2, 2,\n",
              "       2, 2, 2, 2, 2, 2, 2, 2, 2, 2, 2, 2, 2, 2, 2, 2, 2, 2, 2, 2, 2, 2,\n",
              "       2, 2, 2, 2, 2, 2, 2, 2, 2, 2, 2, 2, 2, 2, 2, 2, 2, 2, 2, 2, 2, 2,\n",
              "       2, 2, 2, 2, 2, 2, 2, 2, 2, 2, 2, 2, 2, 2, 2, 2, 2, 2, 2, 2, 2, 2,\n",
              "       2, 2, 2, 2, 2, 2, 2, 2, 2, 2, 2, 2, 2, 2, 2, 2, 2, 2, 2, 2, 2, 2,\n",
              "       2, 2, 2, 2, 2, 2, 2, 2, 2, 2, 2, 2, 2, 2, 2, 2, 2, 2, 2, 2, 2, 2,\n",
              "       2, 2, 2, 2, 2, 2, 2, 2, 2, 2, 2, 2, 2, 2, 2, 2, 2, 2, 2, 2, 2, 2,\n",
              "       2, 2, 2, 2, 2, 2, 2, 2, 2, 2, 2, 2, 2, 2, 2, 2, 2, 2, 2, 2, 2, 2,\n",
              "       2, 2, 2, 2, 2, 2, 2, 2, 2, 2, 2, 2, 2, 2, 2, 2, 2, 2, 2, 2, 2, 2,\n",
              "       2, 2, 2, 2, 2, 2, 2, 2, 2, 2, 2, 2, 2, 2, 2, 2, 2, 2, 2],      dtype=int32)"
            ]
          },
          "metadata": {},
          "execution_count": 60
        }
      ]
    }
  ]
}