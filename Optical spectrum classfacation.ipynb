{
  "nbformat": 4,
  "nbformat_minor": 0,
  "metadata": {
    "colab": {
      "provenance": []
    },
    "kernelspec": {
      "name": "python3",
      "display_name": "Python 3"
    },
    "language_info": {
      "name": "python"
    }
  },
  "cells": [
    {
      "cell_type": "code",
      "execution_count": 2,
      "metadata": {
        "id": "k4YRdbn_hOTQ"
      },
      "outputs": [],
      "source": [
        "import numpy as np\n",
        "import jax\n",
        "import jax.numpy as jnp\n",
        "import matplotlib.pyplot as plt"
      ]
    },
    {
      "cell_type": "code",
      "source": [
        "import os\n",
        "import re\n",
        "\n",
        "folder_path = '/content/train'  # 文件夹路径\n",
        "files = os.listdir(folder_path)  # 获取文件夹中的所有文件\n",
        "\n",
        "x = [] \n",
        "y = []\n",
        "\n",
        "for file in files:\n",
        "    if file.endswith('.txt'):  # 仅处理以 .txt 结尾的文件\n",
        "        file_path = os.path.join(folder_path, file)  # 构建文件的完整路径\n",
        "        # 读取文件中的数据，假设每个文件包含一个二维数组，可以使用 numpy 的 loadtxt 函数\n",
        "        data = np.loadtxt(file_path)\n",
        "        x.append(data)\n",
        " # 提取文件名中的最后一个数字\n",
        "    match = re.search(r\"-([\\d]+)\\.txt$\", file)\n",
        "    if match:\n",
        "        # 将提取到的数字添加到数组中\n",
        "        y.append(int(match.group(1)))\n",
        "\n",
        "# 将 x 转换为 numpy 数组\n",
        "x = np.array(x)\n",
        "y = np.array(y)\n"
      ],
      "metadata": {
        "id": "b6XUOcfxuSFj"
      },
      "execution_count": 3,
      "outputs": []
    },
    {
      "cell_type": "code",
      "source": [
        "y\n"
      ],
      "metadata": {
        "colab": {
          "base_uri": "https://localhost:8080/"
        },
        "id": "rDL40YtOQUfc",
        "outputId": "53701c59-da9e-4f79-da64-545f956d9dd4"
      },
      "execution_count": 4,
      "outputs": [
        {
          "output_type": "execute_result",
          "data": {
            "text/plain": [
              "array([4, 2, 4, 3, 2, 4, 2, 3, 2, 2, 2, 2, 2, 2, 2, 2, 2, 3, 2, 3, 3, 2,\n",
              "       2, 2, 4, 2, 4, 2, 2, 2, 2, 2, 2, 1, 4, 3, 2, 2, 4, 2, 2, 2, 4, 2,\n",
              "       2, 4, 4, 2, 2, 2, 2, 3, 2, 2, 2, 4, 3, 2, 4, 3, 2, 2, 3, 2, 2, 2,\n",
              "       2, 3, 2, 2, 3, 3, 4, 2, 4, 2, 4, 3, 2, 2, 4, 2, 3, 2, 2, 4, 2, 4,\n",
              "       2, 2, 3, 4, 4, 2, 4, 4, 2, 2, 2, 2, 4, 2, 1, 2, 2, 2, 2, 2, 3, 4,\n",
              "       2, 2, 3, 2, 2, 3, 2, 4, 4, 2, 4, 2, 2, 4, 4, 2, 2, 2, 2, 3, 4, 2,\n",
              "       4, 4, 2, 2, 2, 4, 4, 3, 2, 3, 3, 2, 2, 2, 4, 4, 3, 4, 2, 2, 2, 3,\n",
              "       2, 2, 3, 4, 2, 2, 4, 3, 4, 2, 2, 2, 2, 4, 1, 2, 4, 4, 2, 2, 2, 2,\n",
              "       3, 2, 2, 3, 1, 3, 2, 4, 2, 4, 2, 2, 2, 4, 2, 4, 4, 2, 2, 2, 2, 2,\n",
              "       2, 3, 4, 4, 1, 2, 3, 4, 2, 2, 3, 2, 2, 2, 3, 4, 2, 2, 4, 2, 3, 4,\n",
              "       2, 2, 2, 3, 3, 2, 2, 2, 2, 2, 2, 3, 3, 4, 4, 2, 3, 2, 2, 2, 3, 2,\n",
              "       2, 2, 4, 2, 1, 2, 2, 4, 4, 2, 3, 4, 2, 3, 3, 4, 2, 2, 3, 2, 2, 3,\n",
              "       2, 4, 2, 2, 4, 4, 2, 2, 4, 2, 3, 2, 4, 2, 3, 2, 3, 3, 2, 3, 2, 4,\n",
              "       2, 3, 2, 2, 2, 3, 3, 2, 2, 2, 2, 2, 2, 4, 4, 3, 4, 2, 4, 3, 2, 3,\n",
              "       3, 2, 2, 2, 3, 2, 4, 4, 2, 2, 4, 3, 2, 2, 1, 4, 2, 2, 3, 2, 2, 2,\n",
              "       4, 2, 3, 2, 2, 3, 4, 2, 2, 2, 4, 2, 2, 3, 4, 2, 2, 4, 2, 2, 3, 4,\n",
              "       2, 2, 4, 3, 2, 3, 2, 2, 4, 2, 4, 4, 2, 3, 4, 2, 3, 2, 2, 2, 4, 2,\n",
              "       2, 2, 2, 2, 3, 3, 2, 4, 2, 2, 2, 3, 1, 3, 2, 2, 4, 2, 2, 4, 3, 2,\n",
              "       2, 2, 1, 2, 2, 2, 4, 2, 2, 4, 2, 3, 2, 2, 3, 2, 2, 2, 2, 4, 2, 2,\n",
              "       4, 4, 2, 3, 4, 4, 2, 4, 2, 2, 4, 4, 3, 2, 2, 2, 2, 2, 2, 3, 2, 4,\n",
              "       4, 2, 3, 2, 3, 4, 2, 2, 4, 4, 2, 2, 4, 4, 3, 4, 2, 2, 3, 2, 2, 2,\n",
              "       2, 2, 3, 2, 2, 3, 3, 2, 2, 4, 3, 2, 2, 4, 4, 2, 2, 3, 3, 3, 4, 2,\n",
              "       2, 3, 3, 2, 3, 2, 2, 2, 2, 4, 2, 4, 4, 2, 3, 2, 4, 3, 3, 3, 3, 2,\n",
              "       2, 2, 3, 4, 2, 3, 2, 1, 3, 4, 2, 4, 2, 2, 4, 2, 3, 3, 2, 2, 2, 3,\n",
              "       3, 2, 2, 3, 4, 2, 2, 4, 2, 4, 2, 4, 2, 4, 2, 4, 2, 2, 3, 2, 2, 2,\n",
              "       1, 2, 3, 2, 3, 4, 3, 2, 3, 3, 4, 3, 2, 2, 2, 4, 3, 2, 2, 2, 2, 4,\n",
              "       2, 2, 2, 2, 3, 2, 2, 4, 4, 2, 2, 2, 2, 2, 2, 2, 2, 3, 2, 2, 2, 3,\n",
              "       4, 2, 3, 4, 2, 3, 2, 1, 4, 1, 4, 3, 4, 2, 4, 4, 2, 2, 4, 4, 2, 4,\n",
              "       2, 4, 3, 4, 3, 2, 2, 3, 2, 4, 2, 2, 2, 2, 3, 2, 2, 2, 4, 2, 2, 2,\n",
              "       4, 2, 4, 2, 2, 2, 2, 4, 2, 2, 2, 2, 2, 4, 2, 2, 2, 3, 3, 2, 4, 2,\n",
              "       4, 4, 2, 2, 3, 2, 3, 3, 4, 3, 2, 2, 4, 4, 2, 4, 3, 2, 2, 2, 4, 2,\n",
              "       2, 3, 3, 3, 2, 2, 4, 2, 3, 4, 4, 4, 4, 2, 3, 2, 2, 4, 4, 2, 2, 4,\n",
              "       4, 1, 3, 2, 4, 4, 2, 2, 2, 2, 4, 2, 2, 2, 2, 3, 4, 2, 2, 2, 2, 3,\n",
              "       2, 4, 4, 4, 2, 2, 3, 3, 2, 1, 2, 1, 2, 3, 3, 2, 3, 2, 2, 2, 2, 2,\n",
              "       3, 3, 4, 3, 3, 2, 4, 3, 4, 4, 4, 4, 2, 4, 4, 3, 2, 4, 2, 3, 3, 4,\n",
              "       3, 2, 2, 2, 2, 2, 2, 4, 2, 2, 2, 4, 2, 2, 3, 1, 2, 2, 2, 2, 2, 3,\n",
              "       4, 4, 2, 2, 2, 3, 3, 4, 3, 2, 2, 4, 3, 2, 4, 4, 2, 4, 2, 4, 2, 2,\n",
              "       4, 2, 2, 2])"
            ]
          },
          "metadata": {},
          "execution_count": 4
        }
      ]
    },
    {
      "cell_type": "code",
      "source": [
        "y-1"
      ],
      "metadata": {
        "colab": {
          "base_uri": "https://localhost:8080/"
        },
        "id": "WXLxzozISfxA",
        "outputId": "b914cfa7-1dca-4066-d6d5-acd7df4048ef"
      },
      "execution_count": 42,
      "outputs": [
        {
          "output_type": "execute_result",
          "data": {
            "text/plain": [
              "array([3, 1, 3, 2, 1, 3, 1, 2, 1, 1, 1, 1, 1, 1, 1, 1, 1, 2, 1, 2, 2, 1,\n",
              "       1, 1, 3, 1, 3, 1, 1, 1, 1, 1, 1, 0, 3, 2, 1, 1, 3, 1, 1, 1, 3, 1,\n",
              "       1, 3, 3, 1, 1, 1, 1, 2, 1, 1, 1, 3, 2, 1, 3, 2, 1, 1, 2, 1, 1, 1,\n",
              "       1, 2, 1, 1, 2, 2, 3, 1, 3, 1, 3, 2, 1, 1, 3, 1, 2, 1, 1, 3, 1, 3,\n",
              "       1, 1, 2, 3, 3, 1, 3, 3, 1, 1, 1, 1, 3, 1, 0, 1, 1, 1, 1, 1, 2, 3,\n",
              "       1, 1, 2, 1, 1, 2, 1, 3, 3, 1, 3, 1, 1, 3, 3, 1, 1, 1, 1, 2, 3, 1,\n",
              "       3, 3, 1, 1, 1, 3, 3, 2, 1, 2, 2, 1, 1, 1, 3, 3, 2, 3, 1, 1, 1, 2,\n",
              "       1, 1, 2, 3, 1, 1, 3, 2, 3, 1, 1, 1, 1, 3, 0, 1, 3, 3, 1, 1, 1, 1,\n",
              "       2, 1, 1, 2, 0, 2, 1, 3, 1, 3, 1, 1, 1, 3, 1, 3, 3, 1, 1, 1, 1, 1,\n",
              "       1, 2, 3, 3, 0, 1, 2, 3, 1, 1, 2, 1, 1, 1, 2, 3, 1, 1, 3, 1, 2, 3,\n",
              "       1, 1, 1, 2, 2, 1, 1, 1, 1, 1, 1, 2, 2, 3, 3, 1, 2, 1, 1, 1, 2, 1,\n",
              "       1, 1, 3, 1, 0, 1, 1, 3, 3, 1, 2, 3, 1, 2, 2, 3, 1, 1, 2, 1, 1, 2,\n",
              "       1, 3, 1, 1, 3, 3, 1, 1, 3, 1, 2, 1, 3, 1, 2, 1, 2, 2, 1, 2, 1, 3,\n",
              "       1, 2, 1, 1, 1, 2, 2, 1, 1, 1, 1, 1, 1, 3, 3, 2, 3, 1, 3, 2, 1, 2,\n",
              "       2, 1, 1, 1, 2, 1, 3, 3, 1, 1, 3, 2, 1, 1, 0, 3, 1, 1, 2, 1, 1, 1,\n",
              "       3, 1, 2, 1, 1, 2, 3, 1, 1, 1, 3, 1, 1, 2, 3, 1, 1, 3, 1, 1, 2, 3,\n",
              "       1, 1, 3, 2, 1, 2, 1, 1, 3, 1, 3, 3, 1, 2, 3, 1, 2, 1, 1, 1, 3, 1,\n",
              "       1, 1, 1, 1, 2, 2, 1, 3, 1, 1, 1, 2, 0, 2, 1, 1, 3, 1, 1, 3, 2, 1,\n",
              "       1, 1, 0, 1, 1, 1, 3, 1, 1, 3, 1, 2, 1, 1, 2, 1, 1, 1, 1, 3, 1, 1,\n",
              "       3, 3, 1, 2, 3, 3, 1, 3, 1, 1, 3, 3, 2, 1, 1, 1, 1, 1, 1, 2, 1, 3,\n",
              "       3, 1, 2, 1, 2, 3, 1, 1, 3, 3, 1, 1, 3, 3, 2, 3, 1, 1, 2, 1, 1, 1,\n",
              "       1, 1, 2, 1, 1, 2, 2, 1, 1, 3, 2, 1, 1, 3, 3, 1, 1, 2, 2, 2, 3, 1,\n",
              "       1, 2, 2, 1, 2, 1, 1, 1, 1, 3, 1, 3, 3, 1, 2, 1, 3, 2, 2, 2, 2, 1,\n",
              "       1, 1, 2, 3, 1, 2, 1, 0, 2, 3, 1, 3, 1, 1, 3, 1, 2, 2, 1, 1, 1, 2,\n",
              "       2, 1, 1, 2, 3, 1, 1, 3, 1, 3, 1, 3, 1, 3, 1, 3, 1, 1, 2, 1, 1, 1,\n",
              "       0, 1, 2, 1, 2, 3, 2, 1, 2, 2, 3, 2, 1, 1, 1, 3, 2, 1, 1, 1, 1, 3,\n",
              "       1, 1, 1, 1, 2, 1, 1, 3, 3, 1, 1, 1, 1, 1, 1, 1, 1, 2, 1, 1, 1, 2,\n",
              "       3, 1, 2, 3, 1, 2, 1, 0, 3, 0, 3, 2, 3, 1, 3, 3, 1, 1, 3, 3, 1, 3,\n",
              "       1, 3, 2, 3, 2, 1, 1, 2, 1, 3, 1, 1, 1, 1, 2, 1, 1, 1, 3, 1, 1, 1,\n",
              "       3, 1, 3, 1, 1, 1, 1, 3, 1, 1, 1, 1, 1, 3, 1, 1, 1, 2, 2, 1, 3, 1,\n",
              "       3, 3, 1, 1, 2, 1, 2, 2, 3, 2, 1, 1, 3, 3, 1, 3, 2, 1, 1, 1, 3, 1,\n",
              "       1, 2, 2, 2, 1, 1, 3, 1, 2, 3, 3, 3, 3, 1, 2, 1, 1, 3, 3, 1, 1, 3,\n",
              "       3, 0, 2, 1, 3, 3, 1, 1, 1, 1, 3, 1, 1, 1, 1, 2, 3, 1, 1, 1, 1, 2,\n",
              "       1, 3, 3, 3, 1, 1, 2, 2, 1, 0, 1, 0, 1, 2, 2, 1, 2, 1, 1, 1, 1, 1,\n",
              "       2, 2, 3, 2, 2, 1, 3, 2, 3, 3, 3, 3, 1, 3, 3, 2, 1, 3, 1, 2, 2, 3,\n",
              "       2, 1, 1, 1, 1, 1, 1, 3, 1, 1, 1, 3, 1, 1, 2, 0, 1, 1, 1, 1, 1, 2,\n",
              "       3, 3, 1, 1, 1, 2, 2, 3, 2, 1, 1, 3, 2, 1, 3, 3, 1, 3, 1, 3, 1, 1,\n",
              "       3, 1, 1, 1])"
            ]
          },
          "metadata": {},
          "execution_count": 42
        }
      ]
    },
    {
      "cell_type": "code",
      "source": [
        "x_train = x[:,:,1]\n",
        "num_classes = 4\n",
        "y_train = jax.nn.one_hot(y -1 , num_classes)\n",
        "y_train.shape"
      ],
      "metadata": {
        "id": "76mVtJV1uSuB",
        "colab": {
          "base_uri": "https://localhost:8080/"
        },
        "outputId": "a2483da2-00d0-403e-9fac-94527b389a3a"
      },
      "execution_count": 43,
      "outputs": [
        {
          "output_type": "execute_result",
          "data": {
            "text/plain": [
              "(818, 4)"
            ]
          },
          "metadata": {},
          "execution_count": 43
        }
      ]
    },
    {
      "cell_type": "code",
      "source": [
        "\n",
        "array = x_train\n",
        "\n",
        "# 提取每一行最大值前后共800个点的数值\n",
        "window_size = 500\n",
        "\n",
        "max_values = np.max(array, axis=1)  # 沿着第二个轴（12501维）计算最大值\n",
        "max_indices = np.argmax(array, axis=1)  # 沿着第二个轴（12501维）计算最大值的索引\n",
        "start_indices = np.maximum(0, max_indices - window_size // 2)\n",
        "end_indices = np.minimum(12500, max_indices + window_size // 2)\n",
        "end_indices = np.where(start_indices == 0, window_size, end_indices)  # 如果起始索引为0，设置为0\n",
        "start_indices = np.where(end_indices == 12500, 12500 - window_size, start_indices)  # 如果结束索引为12500，设置为12500 - window_size\n",
        "new_array = np.array([array[i, start_indices[i]:end_indices[i]+1] for i in range(array.shape[0])])\n",
        "\n",
        "\n",
        "x_train = new_array\n",
        "x_train.shape"
      ],
      "metadata": {
        "colab": {
          "base_uri": "https://localhost:8080/"
        },
        "id": "Qrjzj7ZnbjMQ",
        "outputId": "baff9bd8-0857-41b4-d6e4-63572548a1fa"
      },
      "execution_count": 44,
      "outputs": [
        {
          "output_type": "execute_result",
          "data": {
            "text/plain": [
              "(818, 501)"
            ]
          },
          "metadata": {},
          "execution_count": 44
        }
      ]
    },
    {
      "cell_type": "code",
      "source": [
        "def make_network(layer_sizes):\n",
        "    \n",
        "    def init(key, scale=1e-2):\n",
        "        params = []\n",
        "        for n_in, n_out in zip(layer_sizes[:-1], layer_sizes[1:]):\n",
        "            weight_key, bias_key = jax.random.split(key)\n",
        "            weight = scale * jax.random.normal(weight_key, (n_in, n_out))\n",
        "            bias = scale * jax.random.normal(bias_key, (n_out,))\n",
        "            params.append((weight, bias))\n",
        "        return params\n",
        "\n",
        "    def relu(x):\n",
        "        return jnp.maximum(0, x)\n",
        "\n",
        "    def apply(params, x):\n",
        "        for w, b in params[:-1]:\n",
        "            x = relu(jnp.dot(x, w) + b)\n",
        "        final_w, final_b = params[-1]\n",
        "        return jnp.dot(x, final_w) + final_b\n",
        "\n",
        "    return init, apply\n"
      ],
      "metadata": {
        "id": "0LbESzfXhX7A"
      },
      "execution_count": 70,
      "outputs": []
    },
    {
      "cell_type": "code",
      "source": [
        "layer_sizes = [501, 128, 64, 4] # IN: 801 numbers, OUT: 5 classes\n",
        "init_fn, apply_fn = make_network(layer_sizes)\n",
        "key = jax.random.PRNGKey(42)\n",
        "params = init_fn(key)\n"
      ],
      "metadata": {
        "id": "YlqEQgnl5uLm"
      },
      "execution_count": 71,
      "outputs": []
    },
    {
      "cell_type": "code",
      "source": [
        "from jax.flatten_util import ravel_pytree\n",
        "ravel_pytree(params)[0].size"
      ],
      "metadata": {
        "colab": {
          "base_uri": "https://localhost:8080/"
        },
        "id": "0aM98Rtx_83A",
        "outputId": "4860f021-88a1-469b-c74d-7049efbd3c2e"
      },
      "execution_count": 72,
      "outputs": [
        {
          "output_type": "execute_result",
          "data": {
            "text/plain": [
              "72772"
            ]
          },
          "metadata": {},
          "execution_count": 72
        }
      ]
    },
    {
      "cell_type": "code",
      "source": [
        "def cross_entropy(params, x, y):\n",
        "    logits = apply_fn(params, x)\n",
        "    return jnp.sum(y * jax.nn.log_softmax(logits))\n",
        "\n",
        "def cross_entropy_loss(params, x, y):\n",
        "    return -jnp.mean(jax.vmap(cross_entropy, (None, 0, 0),0)(params, x, y))"
      ],
      "metadata": {
        "id": "lAO_1aMuAdM_"
      },
      "execution_count": 73,
      "outputs": []
    },
    {
      "cell_type": "code",
      "source": [
        "# Define the update function\n",
        "@jax.jit\n",
        "def update(params, x, y, learning_rate):\n",
        "    grads = jax.grad(cross_entropy_loss)(params, x, y)\n",
        "    return jax.tree_map(lambda p, g: p - learning_rate * g, params, grads) \n",
        "\n",
        "# Define the accuracy function\n",
        "def accuracy(params, x, y):\n",
        "    predictions = jnp.argmax(apply_fn(params, x), axis=1)\n",
        "    actual = jnp.argmax(y, axis=1)\n",
        "    return jnp.mean(predictions == actual)"
      ],
      "metadata": {
        "id": "LAW72KBcAiOt"
      },
      "execution_count": 74,
      "outputs": []
    },
    {
      "cell_type": "code",
      "source": [
        "learning_rate = 0.00001\n",
        "num_epochs = 20\n",
        "batch_size = 1\n",
        "\n",
        "train_size = x_train.shape[0]\n",
        "num_complete_batches, leftover = divmod(train_size, batch_size)\n",
        "num_batches = num_complete_batches + bool(leftover)\n",
        "\n",
        "for epoch in range(num_epochs):\n",
        "    # Shuffle the training data\n",
        "    key, subkey = jax.random.split(key)\n",
        "    permutation = jax.random.permutation(subkey, train_size)\n",
        "    x_train = x_train[permutation]\n",
        "    y_train = y_train[permutation]\n",
        "\n",
        "    for i in range(num_batches):\n",
        "        # Get batch data\n",
        "        batch_start = i * batch_size\n",
        "        batch_end = (i + 1) * batch_size\n",
        "        x_batch = x_train[batch_start:batch_end]\n",
        "        y_batch = y_train[batch_start:batch_end]\n",
        "\n",
        "        # Update parameters\n",
        "        params = update(params, x_batch, y_batch, learning_rate)\n",
        "\n",
        "    # Compute accuracy on training and test sets\n",
        "    train_accuracy = accuracy(params, x_train, y_train)\n",
        "\n",
        "    print(f\"Epoch {epoch}: train accuracy = {train_accuracy:.3f}\")"
      ],
      "metadata": {
        "colab": {
          "base_uri": "https://localhost:8080/"
        },
        "id": "Bry1kjDcAlbB",
        "outputId": "7b4ff1cc-8016-4140-bdd7-7095a4e62103"
      },
      "execution_count": 76,
      "outputs": [
        {
          "output_type": "stream",
          "name": "stdout",
          "text": [
            "Epoch 0: train accuracy = 0.874\n",
            "Epoch 1: train accuracy = 0.875\n",
            "Epoch 2: train accuracy = 0.873\n",
            "Epoch 3: train accuracy = 0.879\n",
            "Epoch 4: train accuracy = 0.868\n",
            "Epoch 5: train accuracy = 0.869\n",
            "Epoch 6: train accuracy = 0.879\n",
            "Epoch 7: train accuracy = 0.874\n",
            "Epoch 8: train accuracy = 0.877\n",
            "Epoch 9: train accuracy = 0.878\n",
            "Epoch 10: train accuracy = 0.877\n",
            "Epoch 11: train accuracy = 0.877\n",
            "Epoch 12: train accuracy = 0.877\n",
            "Epoch 13: train accuracy = 0.879\n",
            "Epoch 14: train accuracy = 0.877\n",
            "Epoch 15: train accuracy = 0.872\n",
            "Epoch 16: train accuracy = 0.881\n",
            "Epoch 17: train accuracy = 0.879\n",
            "Epoch 18: train accuracy = 0.880\n",
            "Epoch 19: train accuracy = 0.878\n"
          ]
        }
      ]
    },
    {
      "cell_type": "code",
      "source": [
        "\n",
        "predictions = jnp.argmax(apply_fn(params, x_train), axis=1)\n",
        "actual = jnp.argmax(y_train, axis=1)\n",
        "idx = jnp.where(predictions != actual)[0]\n",
        "len(idx)"
      ],
      "metadata": {
        "colab": {
          "base_uri": "https://localhost:8080/"
        },
        "id": "nIhh3Sc9cRWM",
        "outputId": "56069dc6-ee2d-4330-c5e6-fe70454d60c0"
      },
      "execution_count": 77,
      "outputs": [
        {
          "output_type": "execute_result",
          "data": {
            "text/plain": [
              "100"
            ]
          },
          "metadata": {},
          "execution_count": 77
        }
      ]
    },
    {
      "cell_type": "code",
      "source": [
        "idx"
      ],
      "metadata": {
        "colab": {
          "base_uri": "https://localhost:8080/"
        },
        "id": "6AJmUBAi3Uwe",
        "outputId": "14a00676-50e5-403f-8e80-fd68386cb95f"
      },
      "execution_count": 78,
      "outputs": [
        {
          "output_type": "execute_result",
          "data": {
            "text/plain": [
              "Array([  2,   4,  20,  32,  40,  42,  56,  81,  85,  89,  94,  99, 100,\n",
              "       103, 106, 118, 121, 129, 147, 149, 153, 154, 158, 161, 163, 169,\n",
              "       189, 194, 209, 211, 214, 238, 243, 255, 283, 321, 324, 334, 336,\n",
              "       371, 383, 387, 392, 397, 399, 405, 422, 428, 436, 441, 450, 457,\n",
              "       464, 476, 481, 483, 486, 487, 491, 503, 508, 512, 516, 518, 525,\n",
              "       527, 529, 530, 541, 542, 548, 549, 550, 555, 577, 594, 606, 621,\n",
              "       630, 638, 640, 649, 663, 672, 673, 676, 682, 707, 718, 727, 744,\n",
              "       752, 760, 765, 766, 792, 804, 805, 816, 817], dtype=int32)"
            ]
          },
          "metadata": {},
          "execution_count": 78
        }
      ]
    },
    {
      "cell_type": "code",
      "source": [
        "for i in range(len(idx)):\n",
        "  print(files[i])\n",
        "  print(predictions[i]+1)"
      ],
      "metadata": {
        "colab": {
          "base_uri": "https://localhost:8080/"
        },
        "id": "tiFQr9hLdN0p",
        "outputId": "e244b187-0e65-4b12-a84f-0c5c2c767da6"
      },
      "execution_count": 79,
      "outputs": [
        {
          "output_type": "stream",
          "name": "stdout",
          "text": [
            "data A V 700baiμA600mV -4.txt\n",
            "2\n",
            "data A V 1200baiμA3000mV -0-2.txt\n",
            "4\n",
            "data A V 2900baiμA800mV -4.txt\n",
            "2\n",
            "data A V 700baiμA4400mV -3.txt\n",
            "2\n",
            "data A V 1000baiμA5000mV -0-2.txt\n",
            "3\n",
            "data A V 2900baiμA5400mV -4.txt\n",
            "2\n",
            "data A V 1900baiμA5600mV -2.txt\n",
            "4\n",
            "data A V 700baiμA0mV -3.txt\n",
            "2\n",
            "data A V 1100baiμA3000mV -0-2.txt\n",
            "2\n",
            "data A V 800baiμA2600mV -2.txt\n",
            "3\n",
            "data A V 2700baiμA600mV -2.txt\n",
            "2\n",
            "data A V 1200baiμA1400mV -0-2.txt\n",
            "2\n",
            "data A V 500baiμA6000mV -2.txt\n",
            "4\n",
            "data A V 2700baiμA1400mV -2.txt\n",
            "2\n",
            "data A V 1000baiμA5400mV -0-2.txt\n",
            "2\n",
            "data A V 2300baiμA5200mV -2.txt\n",
            "2\n",
            "data A V 1900baiμA3200mV -2.txt\n",
            "3\n",
            "data A V 1400baiμA400mV -0-3.txt\n",
            "3\n",
            "data A V 1000baiμA3000mV -0-2.txt\n",
            "2\n",
            "data A V 600baiμA3400mV -3.txt\n",
            "2\n",
            "data A V 2100baiμA800mV -3.txt\n",
            "4\n",
            "data A V 1400baiμA4400mV -0-2.txt\n",
            "2\n",
            "data A V 400baiμA5600mV -2.txt\n",
            "2\n",
            "data A V 400baiμA3800mV -2.txt\n",
            "2\n",
            "data A V 1200baiμA400mV -0-4.txt\n",
            "3\n",
            "data A V 500baiμA4400mV -2.txt\n",
            "2\n",
            "data A V 2400baiμA4000mV -4.txt\n",
            "3\n",
            "data A V 1400baiμA2000mV -0-2.txt\n",
            "3\n",
            "data A V 1600baiμA5000mV -0-2.txt\n",
            "3\n",
            "data A V 1100baiμA1200mV -0-2.txt\n",
            "2\n",
            "data A V 1800baiμA1400mV -0-2.txt\n",
            "3\n",
            "data A V 1400baiμA4800mV -0-2.txt\n",
            "3\n",
            "data A V 1400baiμA4200mV -0-2.txt\n",
            "3\n",
            "data A V 300baiμA3200mV -1.txt\n",
            "4\n",
            "data A V 2600baiμA2800mV -4.txt\n",
            "2\n",
            "data A V 3000baiμA400mV -3.txt\n",
            "2\n",
            "data A V 2200baiμA2400mV -2.txt\n",
            "3\n",
            "data A V 1300baiμA2000mV -0-2.txt\n",
            "3\n",
            "data A V 600baiμA400mV -4.txt\n",
            "2\n",
            "data A V 2000baiμA2000mV -2.txt\n",
            "3\n",
            "data A V 800baiμA1400mV -2.txt\n",
            "3\n",
            "data A V 600baiμA2400mV -2.txt\n",
            "4\n",
            "data A V 1400baiμA1000mV -0-4.txt\n",
            "2\n",
            "data A V 1300baiμA2400mV -0-2.txt\n",
            "3\n",
            "data A V 1300baiμA3200mV -0-2.txt\n",
            "3\n",
            "data A V 1600baiμA600mV -0-4.txt\n",
            "2\n",
            "data A V 1400baiμA5800mV -0-4.txt\n",
            "2\n",
            "data A V 1200baiμA3600mV -0-2.txt\n",
            "2\n",
            "data A V 1600baiμA2800mV -0-2.txt\n",
            "4\n",
            "data A V 1700baiμA2200mV -0-2.txt\n",
            "4\n",
            "data A V 1600baiμA5200mV -0-2.txt\n",
            "3\n",
            "data A V 500baiμA3200mV -3.txt\n",
            "2\n",
            "data A V 2800baiμA3400mV -2.txt\n",
            "3\n",
            "data A V 2000baiμA5400mV -2.txt\n",
            "2\n",
            "data A V 1800baiμA5800mV -2.txt\n",
            "2\n",
            "data A V 2900baiμA2800mV -4.txt\n",
            "2\n",
            "data A V 2900baiμA0mV -3.txt\n",
            "2\n",
            "data A V 600baiμA800mV -2.txt\n",
            "4\n",
            "data A V 1600baiμA6000mV -0-4.txt\n",
            "2\n",
            "data A V 2600baiμA6000mV -3.txt\n",
            "3\n",
            "data A V 600baiμA1800mV -2.txt\n",
            "2\n",
            "data A V 1100baiμA5600mV -0-2.txt\n",
            "4\n",
            "data A V 2300baiμA200mV -3.txt\n",
            "4\n",
            "data A V 1800baiμA5600mV -2.txt\n",
            "2\n",
            "data A V 1000baiμA3600mV -0-2.txt\n",
            "2\n",
            "data A V 2600baiμA2000mV -2.txt\n",
            "3\n",
            "data A V 1000baiμA4400mV -0-2.txt\n",
            "3\n",
            "data A V 700baiμA5400mV -3.txt\n",
            "4\n",
            "data A V 1700baiμA3600mV -0-2.txt\n",
            "2\n",
            "data A V 400baiμA800mV -2.txt\n",
            "4\n",
            "data A V 2300baiμA5800mV -3.txt\n",
            "2\n",
            "data A V 2700baiμA4600mV -3.txt\n",
            "2\n",
            "data A V 2100baiμA1400mV -4.txt\n",
            "2\n",
            "data A V 900baiμA5600mV -2.txt\n",
            "2\n",
            "data A V 3000baiμA3600mV -4.txt\n",
            "2\n",
            "data A V 1700baiμA2800mV -0-2.txt\n",
            "2\n",
            "data A V 1600baiμA800mV -0-4.txt\n",
            "4\n",
            "data A V 2000baiμA400mV -3.txt\n",
            "3\n",
            "data A V 1600baiμA2400mV -0-2.txt\n",
            "3\n",
            "data A V 1200baiμA3800mV -0-2.txt\n",
            "2\n",
            "data A V 3000baiμA5200mV -4.txt\n",
            "4\n",
            "data A V 2500baiμA3000mV -2.txt\n",
            "4\n",
            "data A V 3000baiμA1200mV -3.txt\n",
            "2\n",
            "data A V 300baiμA1000mV -2.txt\n",
            "3\n",
            "data A V 1100baiμA3800mV -0-2.txt\n",
            "3\n",
            "data A V 2900baiμA2000mV -4.txt\n",
            "3\n",
            "data A V 2000baiμA4400mV -2.txt\n",
            "4\n",
            "data A V 1300baiμA1200mV -0-4.txt\n",
            "2\n",
            "data A V 2800baiμA1800mV -2.txt\n",
            "2\n",
            "data A V 2600baiμA4800mV -2.txt\n",
            "2\n",
            "data A V 1100baiμA0mV -0-3.txt\n",
            "2\n",
            "data A V 900baiμA600mV -4.txt\n",
            "3\n",
            "data A V 500baiμA3800mV -4.txt\n",
            "2\n",
            "data A V 2800baiμA200mV -2.txt\n",
            "2\n",
            "data A V 1700baiμA5400mV -0-4.txt\n",
            "4\n",
            "data A V 2700baiμA3400mV -4.txt\n",
            "2\n",
            "data A V 1900baiμA1400mV -2.txt\n",
            "2\n",
            "data A V 400baiμA4400mV -2.txt\n",
            "2\n",
            "data A V 1500baiμA1400mV -0-2.txt\n",
            "2\n",
            "data A V 2600baiμA0mV -2.txt\n",
            "2\n"
          ]
        }
      ]
    },
    {
      "cell_type": "code",
      "source": [],
      "metadata": {
        "id": "C2be39ga67VR"
      },
      "execution_count": null,
      "outputs": []
    }
  ]
}